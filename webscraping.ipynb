{
 "cells": [
  {
   "cell_type": "code",
   "execution_count": 72,
   "metadata": {},
   "outputs": [
    {
     "data": {
      "text/html": [
       "<div>\n",
       "<style scoped>\n",
       "    .dataframe tbody tr th:only-of-type {\n",
       "        vertical-align: middle;\n",
       "    }\n",
       "\n",
       "    .dataframe tbody tr th {\n",
       "        vertical-align: top;\n",
       "    }\n",
       "\n",
       "    .dataframe thead th {\n",
       "        text-align: right;\n",
       "    }\n",
       "</style>\n",
       "<table border=\"1\" class=\"dataframe\">\n",
       "  <thead>\n",
       "    <tr style=\"text-align: right;\">\n",
       "      <th></th>\n",
       "      <th>text</th>\n",
       "    </tr>\n",
       "  </thead>\n",
       "  <tbody>\n",
       "    <tr>\n",
       "      <th>0</th>\n",
       "      <td>أكدت صحيفة واشنطن بوست اليوم الثلاثاء أن إسرائ...</td>\n",
       "    </tr>\n",
       "    <tr>\n",
       "      <th>1</th>\n",
       "      <td>وصل اليوم الثلاثاء، إلى مدينة قم المقدسة لدى ا...</td>\n",
       "    </tr>\n",
       "    <tr>\n",
       "      <th>2</th>\n",
       "      <td>يؤدي التعب والإرهاق الناتج عن الرحلات المتتالي...</td>\n",
       "    </tr>\n",
       "    <tr>\n",
       "      <th>3</th>\n",
       "      <td>شاعر ناهض النظام الناصري، ولم يهادن نظام الساد...</td>\n",
       "    </tr>\n",
       "    <tr>\n",
       "      <th>4</th>\n",
       "      <td>قال وزير الخارجية الأميركي أنتوني بلينكن -اليو...</td>\n",
       "    </tr>\n",
       "  </tbody>\n",
       "</table>\n",
       "</div>"
      ],
      "text/plain": [
       "                                                text\n",
       "0  أكدت صحيفة واشنطن بوست اليوم الثلاثاء أن إسرائ...\n",
       "1  وصل اليوم الثلاثاء، إلى مدينة قم المقدسة لدى ا...\n",
       "2  يؤدي التعب والإرهاق الناتج عن الرحلات المتتالي...\n",
       "3  شاعر ناهض النظام الناصري، ولم يهادن نظام الساد...\n",
       "4  قال وزير الخارجية الأميركي أنتوني بلينكن -اليو..."
      ]
     },
     "execution_count": 72,
     "metadata": {},
     "output_type": "execute_result"
    }
   ],
   "source": [
    "from selenium import webdriver\n",
    "from bs4 import BeautifulSoup\n",
    "import pandas as pd\n",
    "\n",
    "def get_texts(url,tag, class_name):\n",
    "    driver = webdriver.Chrome()\n",
    "    driver.get(url)\n",
    "    driver.implicitly_wait(10)\n",
    "    html = driver.page_source\n",
    "    driver.close()\n",
    "    soup = BeautifulSoup(html, 'html.parser')\n",
    "    divs = soup.find_all(tag, attrs={'class': class_name})\n",
    "    texts = [{'text': div.text} for div in divs]\n",
    "    return texts\n",
    "\n",
    "def flatten(xss):\n",
    "    return [x for xs in xss for x in xs]\n",
    "\n",
    "urls = [\n",
    "    (\"https://www.aljazeera.net/news/\",'div', \"gc__excerpt\"),\n",
    "    (\"https://www.skynewsarabia.com/latest-news-%D8%A3%D8%AD%D8%AF%D8%AB-%D8%A7%D9%84%D8%A3%D8%AE%D8%A8%D8%A7%D8%B1\",'div', \"article-title-holder\"),\n",
    "    (\"https://arabic.rt.com/news/\",'div', \"card__summary card__summary_last-news\"),\n",
    "    (\"https://arabic.euronews.com/just-in\",'a', \"m-object__description__link\"),\n",
    "    (\"https://www.skynewsarabia.com/live-story/1659732-%D9%84%D8%AD%D8%B8%D8%A9-%D8%A8%D9%84%D8%AD%D8%B8%D8%A9-%D8%AA%D8%B7%D9%88%D8%B1%D8%A7%D8%AA-%D8%AD%D8%B1%D8%A8-%D8%BA%D8%B2%D8%A9\",'p', \"lsp_s ng-binding ng-scope\"),\n",
    "    (\"https://www.aljazeera.net/where/arab/palestine/\",\"div\", \"gc__body-wrap\"),\n",
    "    (\"https://www.aljazeera.net/ebusiness/\",\"div\" ,\"gc__body-wrap\")\n",
    "]\n",
    "\n",
    "dataset = [get_texts(url,tag, class_name) for url,tag, class_name in urls]\n",
    "\n",
    "dataset = flatten(dataset)\n",
    "df = pd.DataFrame(dataset)\n",
    "df.to_csv('textes.csv', index=False)\n",
    "df.head()\n"
   ]
  },
  {
   "cell_type": "code",
   "execution_count": null,
   "metadata": {},
   "outputs": [],
   "source": []
  }
 ],
 "metadata": {
  "kernelspec": {
   "display_name": "Python 3",
   "language": "python",
   "name": "python3"
  },
  "language_info": {
   "codemirror_mode": {
    "name": "ipython",
    "version": 3
   },
   "file_extension": ".py",
   "mimetype": "text/x-python",
   "name": "python",
   "nbconvert_exporter": "python",
   "pygments_lexer": "ipython3",
   "version": "3.10.10"
  }
 },
 "nbformat": 4,
 "nbformat_minor": 2
}
